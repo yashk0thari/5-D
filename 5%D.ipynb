{
 "cells": [
  {
   "cell_type": "code",
   "execution_count": 1,
   "metadata": {},
   "outputs": [],
   "source": [
    "# Import relavent functions from sec_edgar_utils\n",
    "import sec_edgar_utils as edgar_utils\n",
    "import json\n",
    "\n",
    "%load_ext autoreload\n",
    "%autoreload 2"
   ]
  },
  {
   "cell_type": "code",
   "execution_count": 19,
   "metadata": {},
   "outputs": [],
   "source": [
    "# Constants\n",
    "FILE_NAME = 'MSFT_files.json'"
   ]
  },
  {
   "cell_type": "code",
   "execution_count": 22,
   "metadata": {},
   "outputs": [],
   "source": [
    "edgar_utils.write_file(FILE_NAME, edgar_utils.get_documents_data(edgar_utils.get_cik('MSFT')))"
   ]
  },
  {
   "cell_type": "code",
   "execution_count": 23,
   "metadata": {},
   "outputs": [],
   "source": [
    "# Load the json file\n",
    "with open(FILE_NAME, 'r') as file:\n",
    "    filings = json.load(file)"
   ]
  },
  {
   "cell_type": "code",
   "execution_count": 24,
   "metadata": {},
   "outputs": [],
   "source": [
    "# Extract Form Details\n",
    "CIK = filings['cik'].zfill(10)\n",
    "ACCESSION_NUMBERs = filings['filings']['recent']['accessionNumber']\n",
    "PRIMARY_DOCUMENTs = filings['filings']['recent']['primaryDocument']\n",
    "FORM_TYPEs = filings['filings']['recent']['form']"
   ]
  },
  {
   "cell_type": "code",
   "execution_count": null,
   "metadata": {},
   "outputs": [],
   "source": [
    "# Download the documents\n",
    "for accession_number, primary_document, form_type in zip(ACCESSION_NUMBERs, PRIMARY_DOCUMENTs, FORM_TYPEs):\n",
    "    # print(f'accession_number: {accession_number} : primary_document: {primary_document} : form_type: {form_type}')\n",
    "    # print(f'--> {CIK}_{accession_number}_{primary_document.replace(\"/\", \"_\")}')\n",
    "    # print(f'https://www.sec.gov/Archives/edgar/data/{CIK}/{accession_number}/{primary_document}')\n",
    "    edgar_utils.download_document(CIK, accession_number.replace('-', ''), primary_document)"
   ]
  }
 ],
 "metadata": {
  "kernelspec": {
   "display_name": "Python 3",
   "language": "python",
   "name": "python3"
  },
  "language_info": {
   "codemirror_mode": {
    "name": "ipython",
    "version": 3
   },
   "file_extension": ".py",
   "mimetype": "text/x-python",
   "name": "python",
   "nbconvert_exporter": "python",
   "pygments_lexer": "ipython3",
   "version": "3.12.3"
  }
 },
 "nbformat": 4,
 "nbformat_minor": 2
}
